{
 "cells": [
  {
   "cell_type": "code",
   "execution_count": 2,
   "id": "91f2d9a7",
   "metadata": {},
   "outputs": [
    {
     "name": "stdout",
     "output_type": "stream",
     "text": [
      "[1, 2, 3, 4, 4, 6, 8]\n"
     ]
    }
   ],
   "source": [
    "#선택 정렬 - 걍 다 비교한다. 가장 비효율적 for문 두번이니까 O(n^2)\n",
    "array = [1,4,6,8,3,2,4]\n",
    "\n",
    "for i in range(len(array)):\n",
    "    min_index = i\n",
    "    for j in range(i+1,len(array)):\n",
    "        if array[min_index] > array[j]:\n",
    "            min_index = j\n",
    "    array[i], array[min_index] = array[min_index], array[i]\n",
    "\n",
    "print(array)\n"
   ]
  },
  {
   "cell_type": "code",
   "execution_count": 3,
   "id": "dd95217e",
   "metadata": {},
   "outputs": [
    {
     "name": "stdout",
     "output_type": "stream",
     "text": [
      "[0, 1, 2, 3, 4, 5, 6, 7, 8, 9]\n"
     ]
    }
   ],
   "source": [
    "#삽입정렬 - 첫번째꺼는 어차피 첨에 비교할 거니까 정렬됐다 생각하고 왼쪽꺼부터 정렬된 배열에 차례대로 비교해서 작으면 왼쪽으로 계속, 자기보다 더 작으면 그대로 \n",
    "#스톱, 이미 정렬되어 있는 상태면 중간에 멈추니까 속도가 선택정렬보단 굉장히 빠름. 그래도 for문 두 번이니까 시간복잡도는 O(n^2).\n",
    "array = [7, 5, 9, 0, 3, 1, 6, 2, 4, 8]\n",
    "\n",
    "for i in range(1, len(array)):\n",
    "    for j in range(i, 0, -1):\n",
    "        if array[j] < array[j-1]:\n",
    "            array[j], array[j-1] = array[j-1], array[j]\n",
    "        else:\n",
    "            break\n",
    "\n",
    "print(array)        \n",
    "    "
   ]
  },
  {
   "cell_type": "code",
   "execution_count": null,
   "id": "e0355e11",
   "metadata": {},
   "outputs": [
    {
     "name": "stdout",
     "output_type": "stream",
     "text": [
      "[0, 1, 2, 3, 4, 5, 6, 7, 8, 9]\n"
     ]
    }
   ],
   "source": [
    "# 퀵 정렬 - 피벗을 먼저 1번 요소로 삼고, 오른쪽은 큰 요소, 왼쪽에선 작은 요소를 찾아냄.\n",
    "# 찾으면 둘이 바꾸고 다시 찾음. 근데 만약에 큰 녀석 작은 녀석의 인덱스 대소관계가 바뀌면\n",
    "# 작은 녀석의 인덱스와 피벗의 인덱스를 바꿈. 아니면 작은 녀석과 큰 녀석 바꿈. 이렇게 분할 후 \n",
    "# 왼쪽 오른쪽 다시 수행.\n",
    "\n",
    "array = [5, 7, 9, 0, 3, 1, 6, 2, 4, 8]\n",
    "\n",
    "def quick_sort(array, start, end):\n",
    "    if start >= end:\n",
    "        return\n",
    "    pivot = start\n",
    "    left = start + 1\n",
    "    right = end\n",
    "\n",
    "    while left <= right:\n",
    "        while left <= end and array[left] <= array[pivot]:\n",
    "            left += 1\n",
    "        while right > start and array[right] >= array[pivot]:\n",
    "            right -= 1\n",
    "        if left > right:\n",
    "            array[pivot],array[right] = array[right],array[pivot]\n",
    "        else :\n",
    "            array[left],array[right] = array[right], array[left]\n",
    "    quick_sort(array, start, right-1)\n",
    "    quick_sort(array, right +1, end)\n",
    "\n",
    "quick_sort(array, 0 ,len(array)-1)\n",
    "print(array) \n",
    "#print(quick_sort(array, 0 ,len(array)-1))\n",
    "#이렇게하면 정렬만 하고 리턴은 하지 않았기 때문에 none값이 출력된다.\n",
    "#따라서 먼저 정렬하고 출력\n",
    "\n"
   ]
  },
  {
   "cell_type": "code",
   "execution_count": null,
   "id": "f764a29d",
   "metadata": {},
   "outputs": [
    {
     "name": "stdout",
     "output_type": "stream",
     "text": [
      "[0, 1, 2, 3, 4, 5, 6, 7, 8, 9]\n"
     ]
    }
   ],
   "source": [
    "\n",
    "#파이썬의 장점을 살린 퀵 정렬\n",
    "#간단하긴한데 시간 약간 비효율적. 그래도 직관적. 기억도 쉽고\n",
    "\n",
    "def quick_sort(array):\n",
    "    if len(array) <= 1:\n",
    "        return array\n",
    "\n",
    "    pivot = array[0]\n",
    "    tail = array[1:]\n",
    "    \n",
    "    left_side = [x for x in tail if x <= pivot]\n",
    "    right_side = [x for x in tail if x > pivot]\n",
    "\n",
    "    return quick_sort(left_side) + [pivot] + quick_sort(right_side)\n",
    "\n",
    "print(quick_sort(array))"
   ]
  },
  {
   "cell_type": "code",
   "execution_count": 12,
   "id": "cbf0966d",
   "metadata": {},
   "outputs": [
    {
     "name": "stdout",
     "output_type": "stream",
     "text": [
      "0 0 1 1 2 2 3 4 5 5 6 7 8 9 9 "
     ]
    }
   ],
   "source": [
    "# 계수 정렬 특정 조건일 때만 사용할 수 있지만 ,굉장히 빠르다.\n",
    "# 데이터의 크기 범위가 제한되어 정수 형태로 표현할 수 있을 때만 사용가능.\n",
    "\n",
    "arr = [7, 5, 9, 0, 3, 1, 6, 2, 9, 1, 4, 8, 0, 5, 2]\n",
    "\n",
    "cnt = [0] * (max(arr) + 1)\n",
    "\n",
    "for i in range(len(arr)):\n",
    "    cnt[arr[i]] += 1\n",
    "\n",
    "for i in range(len(cnt)):\n",
    "    for j in range(cnt[i]):\n",
    "        print(i, end = ' ')"
   ]
  }
 ],
 "metadata": {
  "kernelspec": {
   "display_name": "Python 3",
   "language": "python",
   "name": "python3"
  },
  "language_info": {
   "codemirror_mode": {
    "name": "ipython",
    "version": 3
   },
   "file_extension": ".py",
   "mimetype": "text/x-python",
   "name": "python",
   "nbconvert_exporter": "python",
   "pygments_lexer": "ipython3",
   "version": "3.13.5"
  }
 },
 "nbformat": 4,
 "nbformat_minor": 5
}
