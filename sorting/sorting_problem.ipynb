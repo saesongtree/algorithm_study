{
 "cells": [
  {
   "cell_type": "code",
   "execution_count": null,
   "id": "5cb9e38b",
   "metadata": {},
   "outputs": [
    {
     "name": "stdout",
     "output_type": "stream",
     "text": [
      "653221"
     ]
    }
   ],
   "source": [
    "# 소트인사이드 실버5\n",
    "\n",
    "n = input()\n",
    "arr = []\n",
    "\n",
    "for i in range(len(n)):\n",
    "    arr.append(n[i])\n",
    "\n",
    "arr.sort(reverse = True)\n",
    "for i in range(len(n)):\n",
    "    print(arr[i],end='')"
   ]
  },
  {
   "cell_type": "code",
   "execution_count": null,
   "id": "c396f923",
   "metadata": {},
   "outputs": [],
   "source": [
    "n1 = int(input())\n",
    "li1 = list(map(int, input().split()))\n",
    "n2 = int(input())\n",
    "li2 = list(map(int, input().split()))\n",
    "\n",
    "for i in li2:\n",
    "    if i in li1:\n",
    "        print(1)\n",
    "    else:\n",
    "        print(0)"
   ]
  }
 ],
 "metadata": {
  "kernelspec": {
   "display_name": "Python 3",
   "language": "python",
   "name": "python3"
  },
  "language_info": {
   "codemirror_mode": {
    "name": "ipython",
    "version": 3
   },
   "file_extension": ".py",
   "mimetype": "text/x-python",
   "name": "python",
   "nbconvert_exporter": "python",
   "pygments_lexer": "ipython3",
   "version": "3.12.10"
  }
 },
 "nbformat": 4,
 "nbformat_minor": 5
}
