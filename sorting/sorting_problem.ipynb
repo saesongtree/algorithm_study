{
 "cells": [
  {
   "cell_type": "code",
   "execution_count": null,
   "id": "5cb9e38b",
   "metadata": {},
   "outputs": [
    {
     "name": "stdout",
     "output_type": "stream",
     "text": [
      "653221"
     ]
    }
   ],
   "source": [
    "# 소트인사이드 실버5\n",
    "\n",
    "n = input()\n",
    "arr = []\n",
    "\n",
    "for i in range(len(n)):\n",
    "    arr.append(n[i])\n",
    "\n",
    "arr.sort(reverse = True)\n",
    "for i in range(len(n)):\n",
    "    print(arr[i],end='')"
   ]
  },
  {
   "cell_type": "code",
   "execution_count": null,
   "id": "c396f923",
   "metadata": {},
   "outputs": [],
   "source": [
    "# 수 찾기 실버4\n",
    "n1 = int(input())\n",
    "li1 = list(map(int, input().split()))\n",
    "n2 = int(input())\n",
    "li2 = list(map(int, input().split()))\n",
    "\n",
    "for i in li2:\n",
    "    if i in li1:\n",
    "        print(1)\n",
    "    else:\n",
    "        print(0)"
   ]
  },
  {
   "cell_type": "code",
   "execution_count": null,
   "id": "90f48e44",
   "metadata": {},
   "outputs": [],
   "source": [
    "# 두 수의 합 실버3 \n",
    "# 처음 실패 시간복잡도를 고려하지 않고 n^2으로 해서 그런듯.\n",
    "import sys\n",
    "\n",
    "n = int(input())\n",
    "\n",
    "li = list(map(int, sys.stdin.readline().split()))\n",
    "\n",
    "found = int(input())\n",
    "\n",
    "cnt = 0\n",
    "\n",
    "for i in range(n-1):\n",
    "    for j in range(i+1, n):\n",
    "        if li[i] + li[j] == found:\n",
    "            cnt += 1\n",
    "\n",
    "print(cnt)\n"
   ]
  },
  {
   "cell_type": "code",
   "execution_count": null,
   "id": "8026b8c3",
   "metadata": {},
   "outputs": [],
   "source": [
    "import sys\n",
    "\n",
    "n = int(input())\n",
    "li = list(map(int, sys.stdin.readline().split()))\n",
    "x = int(input())\n",
    "\n",
    "cnt = 0"
   ]
  },
  {
   "cell_type": "code",
   "execution_count": null,
   "id": "2da5f76e",
   "metadata": {},
   "outputs": [],
   "source": []
  }
 ],
 "metadata": {
  "kernelspec": {
   "display_name": "Python 3",
   "language": "python",
   "name": "python3"
  },
  "language_info": {
   "codemirror_mode": {
    "name": "ipython",
    "version": 3
   },
   "file_extension": ".py",
   "mimetype": "text/x-python",
   "name": "python",
   "nbconvert_exporter": "python",
   "pygments_lexer": "ipython3",
   "version": "3.12.10"
  }
 },
 "nbformat": 4,
 "nbformat_minor": 5
}
