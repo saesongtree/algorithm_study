{
 "cells": [
  {
   "cell_type": "code",
   "execution_count": 1,
   "id": "5cb9e38b",
   "metadata": {},
   "outputs": [
    {
     "name": "stdout",
     "output_type": "stream",
     "text": [
      "653221"
     ]
    }
   ],
   "source": [
    "# 백준 소트인사이드 실버5\n",
    "\n",
    "n = input()\n",
    "arr = []\n",
    "\n",
    "for i in range(len(n)):\n",
    "    arr.append(n[i])\n",
    "\n",
    "arr.sort(reverse = True)\n",
    "for i in range(len(n)):\n",
    "    print(arr[i],end='')"
   ]
  },
  {
   "cell_type": "code",
   "execution_count": null,
   "id": "e2f902b7",
   "metadata": {},
   "outputs": [],
   "source": []
  }
 ],
 "metadata": {
  "kernelspec": {
   "display_name": "Python 3",
   "language": "python",
   "name": "python3"
  },
  "language_info": {
   "codemirror_mode": {
    "name": "ipython",
    "version": 3
   },
   "file_extension": ".py",
   "mimetype": "text/x-python",
   "name": "python",
   "nbconvert_exporter": "python",
   "pygments_lexer": "ipython3",
   "version": "3.12.10"
  }
 },
 "nbformat": 4,
 "nbformat_minor": 5
}
