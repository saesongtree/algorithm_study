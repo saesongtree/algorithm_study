{
 "cells": [
  {
   "cell_type": "code",
   "execution_count": null,
   "id": "332cd421",
   "metadata": {},
   "outputs": [
    {
     "name": "stdout",
     "output_type": "stream",
     "text": [
      "-1\n"
     ]
    }
   ],
   "source": [
    "# 이분 탐색\n",
    "def binary_search(arr, search_num):\n",
    "    index = -1\n",
    "    start = 0\n",
    "    end = len(arr)-1\n",
    "\n",
    "    while start <= end:\n",
    "        mid = int((start + end) // 2)\n",
    "        if arr[mid] == search_num:\n",
    "            index = mid\n",
    "            break\n",
    "        elif arr[mid] > search_num:\n",
    "            end = mid -1\n",
    "        else:\n",
    "            start = mid + 1    \n",
    "    return index\n",
    "\n",
    "arr = [1,2,3,4,5,6,7]\n",
    "search_num = int(input())\n",
    "result = binary_search(arr, search_num)\n",
    "print(result)\n",
    "\n",
    "#찾았으면 바로 리턴을 해주자 아니면 계속 돈다. break를 하던 바로 return 값을 해주던\n"
   ]
  }
 ],
 "metadata": {
  "kernelspec": {
   "display_name": "Python 3",
   "language": "python",
   "name": "python3"
  },
  "language_info": {
   "codemirror_mode": {
    "name": "ipython",
    "version": 3
   },
   "file_extension": ".py",
   "mimetype": "text/x-python",
   "name": "python",
   "nbconvert_exporter": "python",
   "pygments_lexer": "ipython3",
   "version": "3.12.10"
  }
 },
 "nbformat": 4,
 "nbformat_minor": 5
}
