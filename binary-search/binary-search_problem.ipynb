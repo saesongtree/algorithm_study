{
 "cells": [
  {
   "cell_type": "code",
   "execution_count": null,
   "id": "512d5f7c",
   "metadata": {},
   "outputs": [],
   "source": [
    "import sys\n",
    "card_cnt = int(input())\n",
    "card_number = set(map(int, sys.stdin.readline().split()))\n",
    "N = int(input())\n",
    "find_number = list(map(int, sys.stdin.readline().split()))\n",
    "\n",
    "def find_cnt(card,find):\n",
    "    result = []\n",
    "    \n",
    "    # 역시나 시간초과가 나네요. 파이썬은 어지간하면 정렬이든 이분탐색이든 \n",
    "    # 쌩 이중포문 돌리면 시간초과 나는듯..\n",
    "    '''\n",
    "    for i in range(len(card)):\n",
    "        for j in range(len(find)):\n",
    "            if find[j] == card[i]:\n",
    "                result[j] = 1 \n",
    "    ''' \n",
    "    for num in find_number:\n",
    "        if num in card_number:\n",
    "            result.append('1')\n",
    "        else:\n",
    "            result.append('0')       \n",
    "    \n",
    "    return result\n",
    "\n",
    "result = find_cnt(card_number, find_number)\n",
    "print(' '.join(result))\n"
   ]
  },
  {
   "cell_type": "code",
   "execution_count": null,
   "id": "73bcb1e0",
   "metadata": {},
   "outputs": [],
   "source": [
    "import sys\n",
    "import bisect\n",
    "\n",
    "# 카드 개수\n",
    "N = int(input())\n",
    "# 가지고 있는 카드 리스트를 정렬\n",
    "card_list = sorted(map(int, sys.stdin.readline().split()))\n",
    "\n",
    "# 찾을 숫자 개수\n",
    "M = int(input())\n",
    "find_numbers = list(map(int, sys.stdin.readline().split()))\n",
    "\n",
    "# 이분 탐색으로 존재 여부 확인 함수\n",
    "def is_exist(target, sorted_list):\n",
    "    # bisect_left는 이분 탐색을 수행하여 target이 들어갈 위치 반환\n",
    "    index = bisect.bisect_left(sorted_list, target)\n",
    "    # 만약 그 위치에 값이 존재하면 1, 아니면 0\n",
    "    if index < len(sorted_list) and sorted_list[index] == target:\n",
    "        return '1'\n",
    "    else:\n",
    "        return '0'\n",
    "\n",
    "# 결과 리스트 생성\n",
    "result = [is_exist(num, card_list) for num in find_numbers]\n",
    "\n",
    "# 출력\n",
    "print(' '.join(result))\n",
    "\n",
    "#bisect.bisect.left(함수, 찾을 값)이거 익숙해지자.\n"
   ]
  }
 ],
 "metadata": {
  "kernelspec": {
   "display_name": "Python 3",
   "language": "python",
   "name": "python3"
  },
  "language_info": {
   "codemirror_mode": {
    "name": "ipython",
    "version": 3
   },
   "file_extension": ".py",
   "mimetype": "text/x-python",
   "name": "python",
   "nbconvert_exporter": "python",
   "pygments_lexer": "ipython3",
   "version": "3.12.10"
  }
 },
 "nbformat": 4,
 "nbformat_minor": 5
}
